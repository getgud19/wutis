{
 "cells": [
  {
   "cell_type": "code",
   "execution_count": 191,
   "id": "e58c95d5",
   "metadata": {},
   "outputs": [],
   "source": [
    "import pandas as pd\n",
    "import pandas_datareader as pdr \n",
    "import yfinance as yf\n",
    "import numpy as np\n",
    "import scipy.stats as st"
   ]
  },
  {
   "cell_type": "code",
   "execution_count": 192,
   "id": "e0709ab5",
   "metadata": {
    "scrolled": true
   },
   "outputs": [
    {
     "name": "stdout",
     "output_type": "stream",
     "text": [
      "[*********************100%***********************]  6 of 6 completed\n",
      "             Adj Close                                               \\\n",
      "                   AGG       BITO        DBC         IYR       PAVE   \n",
      "Date                                                                  \n",
      "2010-01-04   72.142860        NaN  24.376337   28.448309        NaN   \n",
      "2010-01-05   72.471100        NaN  24.405313   28.516615        NaN   \n",
      "2010-01-06   72.429153        NaN  24.839912   28.504208        NaN   \n",
      "2010-01-07   72.345398        NaN  24.530863   28.758821        NaN   \n",
      "2010-01-08   72.387253        NaN  24.511545   28.566292        NaN   \n",
      "...                ...        ...        ...         ...        ...   \n",
      "2021-12-27  109.119476  30.028542  20.794445  108.840874  28.305117   \n",
      "2021-12-28  109.071693  27.974833  20.754684  109.212273  28.344526   \n",
      "2021-12-29  108.746986  27.651051  20.854084  109.926514  28.433197   \n",
      "2021-12-30  108.985741  27.577042  20.754684  110.421722  28.274031   \n",
      "2021-12-31  108.947540  26.735207  20.655287  110.602676  28.461866   \n",
      "\n",
      "                        \n",
      "                   VOO  \n",
      "Date                    \n",
      "2010-01-04         NaN  \n",
      "2010-01-05         NaN  \n",
      "2010-01-06         NaN  \n",
      "2010-01-07         NaN  \n",
      "2010-01-08         NaN  \n",
      "...                ...  \n",
      "2021-12-27  426.498322  \n",
      "2021-12-28  426.177582  \n",
      "2021-12-29  426.692688  \n",
      "2021-12-30  425.487457  \n",
      "2021-12-31  424.321136  \n",
      "\n",
      "[3021 rows x 6 columns]\n"
     ]
    }
   ],
   "source": [
    "import numpy as np\n",
    "import pandas as pd\n",
    "import yfinance as yf\n",
    "\n",
    "def var_historic(data: pd.DataFrame, level = 99):\n",
    "    \"\"\"\n",
    "    Takes a time series of asset returns, returns the historic\n",
    "    Value at Risk at a specified confidence level\n",
    "    \"\"\"\n",
    "    return -np.percentile(data, (100 - level))\n",
    "\n",
    "def cvar_historic(data: pd.DataFrame, level = 99):\n",
    "    \"\"\"\n",
    "    Takes a time series of asset returns, returns the historic\n",
    "    Conditional Value at Risk at a specified confidence level\n",
    "    \"\"\"\n",
    "    is_beyond = data <= -var_historic(data, level = level)\n",
    "    return -data[is_beyond].mean()\n",
    "\n",
    "# Define tickers\n",
    "tickers_list = ['VOO', 'AGG', 'IYR', 'DBC', 'PAVE', 'BITO']\n",
    "\n",
    "# Fetch data\n",
    "\n",
    "data = yf.download(tickers_list,'2010-01-01','2022-01-01')\n",
    "data = data.loc[:,[\"Adj Close\"]]\n",
    "\n",
    "print(data)\n",
    "\n",
    "returns = data.pct_change().dropna()\n",
    "\n",
    "cov_matrix = returns.cov()\n",
    "\n"
   ]
  },
  {
   "cell_type": "code",
   "execution_count": 193,
   "id": "38684692",
   "metadata": {},
   "outputs": [
    {
     "name": "stdout",
     "output_type": "stream",
     "text": [
      "The historic VaR of the VOO ETF is: 0.02\n",
      "The historic CVaR of the VOO ETF is: 0.022\n",
      "The historic VaR of the AGG ETF is: 0.006\n",
      "The historic CVaR of the AGG ETF is: 0.007\n",
      "The historic VaR of the IYR ETF is: 0.024\n",
      "The historic CVaR of the IYR ETF is: 0.028\n",
      "The historic VaR of the DBC ETF is: 0.044\n",
      "The historic CVaR of the DBC ETF is: 0.06\n",
      "The historic VaR of the PAVE ETF is: 0.03\n",
      "The historic CVaR of the PAVE ETF is: 0.032\n",
      "The historic VaR of the BITO ETF is: 0.076\n",
      "The historic CVaR of the BITO ETF is: 0.084\n"
     ]
    }
   ],
   "source": [
    "\n",
    "# Calculate return series for each ETF and remove NaN values\n",
    "for ticker in tickers_list:\n",
    "    data[ticker + \"_Return\"] = data.xs(ticker, level=1, axis=1).pct_change()\n",
    "data.dropna(inplace=True)\n",
    "\n",
    "# Calculate and print the historic VaR and CVaR for each ETF\n",
    "for ticker in tickers_list:\n",
    "    print(f\"The historic VaR of the {ticker} ETF is:\", var_historic(data[ticker + \"_Return\"], 99).round(3))\n",
    "    print(f\"The historic CVaR of the {ticker} ETF is:\", cvar_historic(data[ticker + \"_Return\"], 99).round(3))"
   ]
  },
  {
   "cell_type": "code",
   "execution_count": 194,
   "id": "12991a55",
   "metadata": {},
   "outputs": [],
   "source": [
    "\n",
    "#fill NaN values with a specific value (like 0)\n",
    "returns = returns.fillna(0)\n",
    "# Replace inf and -inf with NaN\n",
    "returns = returns.replace([np.inf, -np.inf], np.nan)"
   ]
  },
  {
   "cell_type": "code",
   "execution_count": 195,
   "id": "eb5f2955",
   "metadata": {
    "scrolled": true
   },
   "outputs": [
    {
     "name": "stdout",
     "output_type": "stream",
     "text": [
      "The daily returns of the Equally Weighted portfolio are:\n",
      "Date\n",
      "2021-10-21   -0.011574\n",
      "2021-10-22   -0.002703\n",
      "2021-10-25    0.008927\n",
      "2021-10-26   -0.001664\n",
      "2021-10-27   -0.015978\n",
      "2021-10-28    0.014222\n",
      "2021-10-29    0.001231\n",
      "2021-11-01   -0.000661\n",
      "2021-11-02    0.009649\n",
      "2021-11-03   -0.005606\n",
      "2021-11-04   -0.004805\n",
      "2021-11-05    0.006399\n",
      "2021-11-08    0.016754\n",
      "2021-11-09    0.004089\n",
      "2021-11-10   -0.010937\n",
      "2021-11-11   -0.000858\n",
      "2021-11-12    0.000212\n",
      "2021-11-15   -0.000866\n",
      "2021-11-16   -0.010882\n",
      "2021-11-17   -0.000063\n",
      "2021-11-18   -0.005200\n",
      "2021-11-19   -0.004275\n",
      "2021-11-22   -0.006064\n",
      "2021-11-23    0.010833\n",
      "2021-11-24    0.000398\n",
      "2021-11-26   -0.032044\n",
      "2021-11-29    0.016524\n",
      "2021-11-30   -0.018310\n",
      "2021-12-01   -0.010433\n",
      "2021-12-02    0.015110\n",
      "2021-12-03   -0.012889\n",
      "2021-12-06   -0.004131\n",
      "2021-12-07    0.016951\n",
      "2021-12-08    0.004444\n",
      "2021-12-09   -0.017480\n",
      "2021-12-10    0.007511\n",
      "2021-12-13   -0.007913\n",
      "2021-12-14   -0.001986\n",
      "2021-12-15    0.011777\n",
      "2021-12-16   -0.004927\n",
      "2021-12-17   -0.012062\n",
      "2021-12-20   -0.005291\n",
      "2021-12-21    0.017685\n",
      "2021-12-22    0.007961\n",
      "2021-12-23    0.009752\n",
      "2021-12-27    0.010381\n",
      "2021-12-28   -0.011115\n",
      "2021-12-29    0.000186\n",
      "2021-12-30   -0.001528\n",
      "2021-12-31   -0.005021\n",
      "dtype: float64\n"
     ]
    }
   ],
   "source": [
    "# Number of ETFs in the portfolio\n",
    "n = len(tickers_list)\n",
    "\n",
    "# Assign equal weight to each ETF\n",
    "weights = np.repeat(1/n, n)\n",
    "\n",
    "# Create a list of column names for the return series\n",
    "return_cols = [ticker + \"_Return\" for ticker in tickers_list]\n",
    "\n",
    "# Calculate daily returns of the portfolio\n",
    "portfolio_returns = (data[return_cols] * weights).sum(axis=1)\n",
    "\n",
    "print(\"The daily returns of the Equally Weighted portfolio are:\")\n",
    "print(portfolio_returns)\n"
   ]
  },
  {
   "cell_type": "code",
   "execution_count": 196,
   "id": "863f5945",
   "metadata": {
    "scrolled": true
   },
   "outputs": [
    {
     "name": "stdout",
     "output_type": "stream",
     "text": [
      "Annualized Return: -0.167122561178628\n",
      "Annualized Volatility: 0.16878951331258232\n",
      "Sharpe Ratio: -0.9901240776086173\n",
      "Maximum Drawdown: 0.08265910971692214\n",
      "VaR 99%: 0.025314000440958075\n",
      "CVaR 99%: 0.03204357429290551\n"
     ]
    }
   ],
   "source": [
    "ew_ann_return = (1 + portfolio_returns.mean())**252 - 1\n",
    "\n",
    "ew_ann_volatility = portfolio_returns.std() * np.sqrt(252)\n",
    "\n",
    "ew_sharpe_ratio = ew_ann_return / ew_ann_volatility\n",
    "\n",
    "cumulative_returns = (1 + portfolio_returns).cumprod()\n",
    "cumulative_max = cumulative_returns.cummax()\n",
    "drawdown = cumulative_max - cumulative_returns\n",
    "ew_max_drawdown = drawdown.max()\n",
    "\n",
    "ew_var_99 = var_historic(portfolio_returns)\n",
    "ew_cvar_99 = cvar_historic(portfolio_returns)\n",
    "\n",
    "print(f\"Annualized Return: {ew_ann_return}\")\n",
    "print(f\"Annualized Volatility: {ew_ann_volatility}\")\n",
    "print(f\"Sharpe Ratio: {ew_sharpe_ratio}\")\n",
    "print(f\"Maximum Drawdown: {ew_max_drawdown}\")\n",
    "print(f\"VaR 99%: {ew_var_99}\")\n",
    "print(f\"CVaR 99%: {ew_cvar_99}\")\n"
   ]
  },
  {
   "cell_type": "code",
   "execution_count": 197,
   "id": "1a83eeed",
   "metadata": {},
   "outputs": [
    {
     "name": "stdout",
     "output_type": "stream",
     "text": [
      "The daily returns of the 60/40 portfolio are:\n",
      "Date\n",
      "2021-10-21   -0.008968\n",
      "2021-10-22   -0.001527\n",
      "2021-10-25    0.008504\n",
      "2021-10-26   -0.001357\n",
      "2021-10-27   -0.014841\n",
      "2021-10-28    0.014130\n",
      "2021-10-29    0.000454\n",
      "2021-11-01    0.000167\n",
      "2021-11-02    0.008813\n",
      "2021-11-03   -0.003951\n",
      "2021-11-04   -0.003759\n",
      "2021-11-05    0.006560\n",
      "2021-11-08    0.014213\n",
      "2021-11-09    0.002999\n",
      "2021-11-10   -0.010281\n",
      "2021-11-11   -0.000291\n",
      "2021-11-12    0.001160\n",
      "2021-11-15   -0.000453\n",
      "2021-11-16   -0.008588\n",
      "2021-11-17   -0.000459\n",
      "2021-11-18   -0.003797\n",
      "2021-11-19   -0.004010\n",
      "2021-11-22   -0.005058\n",
      "2021-11-23    0.009591\n",
      "2021-11-24    0.001150\n",
      "2021-11-26   -0.030864\n",
      "2021-11-29    0.014703\n",
      "2021-11-30   -0.019388\n",
      "2021-12-01   -0.011022\n",
      "2021-12-02    0.017169\n",
      "2021-12-03   -0.011394\n",
      "2021-12-06   -0.000301\n",
      "2021-12-07    0.017119\n",
      "2021-12-08    0.004365\n",
      "2021-12-09   -0.015752\n",
      "2021-12-10    0.007042\n",
      "2021-12-13   -0.006821\n",
      "2021-12-14   -0.003376\n",
      "2021-12-15    0.011807\n",
      "2021-12-16   -0.004502\n",
      "2021-12-17   -0.011417\n",
      "2021-12-20   -0.006900\n",
      "2021-12-21    0.017494\n",
      "2021-12-22    0.008167\n",
      "2021-12-23    0.008747\n",
      "2021-12-27    0.011335\n",
      "2021-12-28   -0.008622\n",
      "2021-12-29    0.000874\n",
      "2021-12-30   -0.001483\n",
      "2021-12-31   -0.003647\n",
      "dtype: float64\n"
     ]
    }
   ],
   "source": [
    "# Define asset classes\n",
    "equity_real_estate_infra = ['VOO', 'IYR', 'PAVE']\n",
    "other_assets = ['AGG', 'DBC', 'BITO']\n",
    "\n",
    "# Assign weights\n",
    "weights_60 = np.repeat(0.6/len(equity_real_estate_infra), len(equity_real_estate_infra))\n",
    "weights_40 = np.repeat(0.4/len(other_assets), len(other_assets))\n",
    "\n",
    "# Create a list of column names for the return series\n",
    "return_cols_60 = [ticker + \"_Return\" for ticker in equity_real_estate_infra]\n",
    "return_cols_40 = [ticker + \"_Return\" for ticker in other_assets]\n",
    "\n",
    "# Calculate daily returns of the portfolio\n",
    "portfolio_returns_60 = (data[return_cols_60] * weights_60).sum(axis=1)\n",
    "portfolio_returns_40 = (data[return_cols_40] * weights_40).sum(axis=1)\n",
    "portfolio_returns = portfolio_returns_60 + portfolio_returns_40\n",
    "\n",
    "print(\"The daily returns of the 60/40 portfolio are:\")\n",
    "print(portfolio_returns)\n"
   ]
  },
  {
   "cell_type": "code",
   "execution_count": 198,
   "id": "ade37254",
   "metadata": {
    "scrolled": false
   },
   "outputs": [
    {
     "name": "stdout",
     "output_type": "stream",
     "text": [
      "Annualized Return: -0.0787234109819106\n",
      "Annualized Volatility: 0.16081213192562926\n",
      "Sharpe Ratio: -0.4895365171722106\n",
      "Maximum Drawdown: 0.07121957081762509\n",
      "VaR 99%: 0.02524092506526764\n",
      "CVaR 99%: 0.030863912384588195\n"
     ]
    }
   ],
   "source": [
    "ann_return = (1 + portfolio_returns.mean())**252 - 1\n",
    "\n",
    "ann_volatility = portfolio_returns.std() * np.sqrt(252)\n",
    "\n",
    "sharpe_ratio = ann_return / ann_volatility\n",
    "\n",
    "cumulative_returns = (1 + portfolio_returns).cumprod()\n",
    "cumulative_max = cumulative_returns.cummax()\n",
    "drawdown = cumulative_max - cumulative_returns\n",
    "max_drawdown = drawdown.max()\n",
    "\n",
    "var_99 = var_historic(portfolio_returns)\n",
    "cvar_99 = cvar_historic(portfolio_returns)\n",
    "\n",
    "print(f\"Annualized Return: {ann_return}\")\n",
    "print(f\"Annualized Volatility: {ann_volatility}\")\n",
    "print(f\"Sharpe Ratio: {sharpe_ratio}\")\n",
    "print(f\"Maximum Drawdown: {max_drawdown}\")\n",
    "print(f\"VaR 99%: {var_99}\")\n",
    "print(f\"CVaR 99%: {cvar_99}\")"
   ]
  },
  {
   "cell_type": "code",
   "execution_count": 199,
   "id": "0d8c687d",
   "metadata": {
    "scrolled": true
   },
   "outputs": [
    {
     "data": {
      "image/png": "[encoded data removed]",
      "text/plain": [
       "<Figure size 640x480 with 6 Axes>"
      ]
     },
     "metadata": {},
     "output_type": "display_data"
    }
   ],
   "source": [
    "import matplotlib.pyplot as plt\n",
    "\n",
    "# Metrics for EW portfolio\n",
    "ew_metrics = [ew_ann_return, ew_ann_volatility, ew_sharpe_ratio, ew_max_drawdown, ew_var_99, ew_cvar_99]\n",
    "\n",
    "# Metrics for 60/40 portfolio\n",
    "portfolio_metrics = [ann_return, ann_volatility, sharpe_ratio, max_drawdown, var_99, cvar_99]\n",
    "\n",
    "# Metric names\n",
    "metrics_names = ['Annualized Return', 'Annualized Volatility', 'Sharpe Ratio', 'Max Drawdown', 'VaR 99%', 'CVaR 99%']\n",
    "\n",
    "# Create a figure and a set of subplots\n",
    "fig, axs = plt.subplots(2, 3)\n",
    "\n",
    "# Plot each metric\n",
    "for i in range(6):\n",
    "    ax = axs[i//3, i%3]\n",
    "    ax.bar(['EW', '60/40'], [ew_metrics[i], portfolio_metrics[i]])\n",
    "    ax.set_title(metrics_names[i])\n",
    "\n",
    "# Display the plot\n",
    "plt.tight_layout()\n",
    "plt.show()\n"
   ]
  },
  {
   "cell_type": "markdown",
   "id": "e997ed15",
   "metadata": {},
   "source": [
    "# The graph shows that EW has a lower annualized return than 60/40, but also a higher annualized volatility, max drawdown, VaR 99%, and CVaR 99%. This means that EW has lower returns but also higher risks than 60/40. EW has a lower Sharpe ratio than 60/40, which means that EW has lower risk-adjusted returns than 60/40.\n",
    "\n",
    "# Therefore, based on the graph, we can say that EW and 60/40 have different risk-return profiles and trade-offs. Which portfolio is better depends on your objectives and constraints, such as your risk tolerance, time horizon, liquidity needs, tax considerations, etc.\"\n",
    "\n",
    "# So in this case, while EW might be riskier (given its higher volatility and potential for losses), it does not provide higher returns to compensate for that additional risk when compared to the 60/40 portfolio. This is reflected in its lower Sharpe ratio. The choice between the two would indeed depend on an individual’s investment goals and risk tolerance.\n"
   ]
  },
  {
   "cell_type": "code",
   "execution_count": 227,
   "id": "8d7f84d3",
   "metadata": {},
   "outputs": [
    {
     "name": "stdout",
     "output_type": "stream",
     "text": [
      "[*********************100%***********************]  1 of 1 completed\n",
      "[*********************100%***********************]  1 of 1 completed\n",
      "[*********************100%***********************]  1 of 1 completed\n",
      "[*********************100%***********************]  1 of 1 completed\n",
      "[*********************100%***********************]  1 of 1 completed\n",
      "[*********************100%***********************]  1 of 1 completed\n"
     ]
    },
    {
     "data": {
      "text/html": [
       "<div>\n",
       "<style scoped>\n",
       "    .dataframe tbody tr th:only-of-type {\n",
       "        vertical-align: middle;\n",
       "    }\n",
       "\n",
       "    .dataframe tbody tr th {\n",
       "        vertical-align: top;\n",
       "    }\n",
       "\n",
       "    .dataframe thead th {\n",
       "        text-align: right;\n",
       "    }\n",
       "</style>\n",
       "<table border=\"1\" class=\"dataframe\">\n",
       "  <thead>\n",
       "    <tr style=\"text-align: right;\">\n",
       "      <th></th>\n",
       "      <th>Equity</th>\n",
       "      <th>Fixed Income</th>\n",
       "      <th>Commodities</th>\n",
       "      <th>Real Estate</th>\n",
       "      <th>Infrastructure</th>\n",
       "      <th>Crypto</th>\n",
       "    </tr>\n",
       "    <tr>\n",
       "      <th>Date</th>\n",
       "      <th></th>\n",
       "      <th></th>\n",
       "      <th></th>\n",
       "      <th></th>\n",
       "      <th></th>\n",
       "      <th></th>\n",
       "    </tr>\n",
       "  </thead>\n",
       "  <tbody>\n",
       "    <tr>\n",
       "      <th>2010-09-09</th>\n",
       "      <td>79.068344</td>\n",
       "      <td>77.038246</td>\n",
       "      <td>33.413078</td>\n",
       "      <td>22.174353</td>\n",
       "      <td>NaN</td>\n",
       "      <td>NaN</td>\n",
       "    </tr>\n",
       "    <tr>\n",
       "      <th>2010-09-10</th>\n",
       "      <td>79.427330</td>\n",
       "      <td>76.873749</td>\n",
       "      <td>33.545906</td>\n",
       "      <td>22.406143</td>\n",
       "      <td>NaN</td>\n",
       "      <td>NaN</td>\n",
       "    </tr>\n",
       "    <tr>\n",
       "      <th>2010-09-13</th>\n",
       "      <td>80.426201</td>\n",
       "      <td>77.045303</td>\n",
       "      <td>34.070831</td>\n",
       "      <td>22.570326</td>\n",
       "      <td>NaN</td>\n",
       "      <td>NaN</td>\n",
       "    </tr>\n",
       "    <tr>\n",
       "      <th>2010-09-14</th>\n",
       "      <td>80.410583</td>\n",
       "      <td>77.324219</td>\n",
       "      <td>33.969646</td>\n",
       "      <td>22.637932</td>\n",
       "      <td>NaN</td>\n",
       "      <td>NaN</td>\n",
       "    </tr>\n",
       "    <tr>\n",
       "      <th>2010-09-15</th>\n",
       "      <td>80.613510</td>\n",
       "      <td>77.181274</td>\n",
       "      <td>34.235287</td>\n",
       "      <td>22.599298</td>\n",
       "      <td>NaN</td>\n",
       "      <td>NaN</td>\n",
       "    </tr>\n",
       "    <tr>\n",
       "      <th>...</th>\n",
       "      <td>...</td>\n",
       "      <td>...</td>\n",
       "      <td>...</td>\n",
       "      <td>...</td>\n",
       "      <td>...</td>\n",
       "      <td>...</td>\n",
       "    </tr>\n",
       "    <tr>\n",
       "      <th>2021-12-27</th>\n",
       "      <td>426.498291</td>\n",
       "      <td>109.119453</td>\n",
       "      <td>108.840866</td>\n",
       "      <td>20.794445</td>\n",
       "      <td>28.305117</td>\n",
       "      <td>30.028540</td>\n",
       "    </tr>\n",
       "    <tr>\n",
       "      <th>2021-12-28</th>\n",
       "      <td>426.177582</td>\n",
       "      <td>109.071693</td>\n",
       "      <td>109.212273</td>\n",
       "      <td>20.754684</td>\n",
       "      <td>28.344526</td>\n",
       "      <td>27.974831</td>\n",
       "    </tr>\n",
       "    <tr>\n",
       "      <th>2021-12-29</th>\n",
       "      <td>426.692688</td>\n",
       "      <td>108.746994</td>\n",
       "      <td>109.926521</td>\n",
       "      <td>20.854084</td>\n",
       "      <td>28.433197</td>\n",
       "      <td>27.651049</td>\n",
       "    </tr>\n",
       "    <tr>\n",
       "      <th>2021-12-30</th>\n",
       "      <td>425.487457</td>\n",
       "      <td>108.985756</td>\n",
       "      <td>110.421722</td>\n",
       "      <td>20.754684</td>\n",
       "      <td>28.274033</td>\n",
       "      <td>27.577042</td>\n",
       "    </tr>\n",
       "    <tr>\n",
       "      <th>2021-12-31</th>\n",
       "      <td>424.321167</td>\n",
       "      <td>108.947556</td>\n",
       "      <td>110.602669</td>\n",
       "      <td>20.655287</td>\n",
       "      <td>28.461866</td>\n",
       "      <td>26.735205</td>\n",
       "    </tr>\n",
       "  </tbody>\n",
       "</table>\n",
       "<p>2849 rows × 6 columns</p>\n",
       "</div>"
      ],
      "text/plain": [
       "                Equity  Fixed Income  Commodities  Real Estate  \\\n",
       "Date                                                             \n",
       "2010-09-09   79.068344     77.038246    33.413078    22.174353   \n",
       "2010-09-10   79.427330     76.873749    33.545906    22.406143   \n",
       "2010-09-13   80.426201     77.045303    34.070831    22.570326   \n",
       "2010-09-14   80.410583     77.324219    33.969646    22.637932   \n",
       "2010-09-15   80.613510     77.181274    34.235287    22.599298   \n",
       "...                ...           ...          ...          ...   \n",
       "2021-12-27  426.498291    109.119453   108.840866    20.794445   \n",
       "2021-12-28  426.177582    109.071693   109.212273    20.754684   \n",
       "2021-12-29  426.692688    108.746994   109.926521    20.854084   \n",
       "2021-12-30  425.487457    108.985756   110.421722    20.754684   \n",
       "2021-12-31  424.321167    108.947556   110.602669    20.655287   \n",
       "\n",
       "            Infrastructure     Crypto  \n",
       "Date                                   \n",
       "2010-09-09             NaN        NaN  \n",
       "2010-09-10             NaN        NaN  \n",
       "2010-09-13             NaN        NaN  \n",
       "2010-09-14             NaN        NaN  \n",
       "2010-09-15             NaN        NaN  \n",
       "...                    ...        ...  \n",
       "2021-12-27       28.305117  30.028540  \n",
       "2021-12-28       28.344526  27.974831  \n",
       "2021-12-29       28.433197  27.651049  \n",
       "2021-12-30       28.274033  27.577042  \n",
       "2021-12-31       28.461866  26.735205  \n",
       "\n",
       "[2849 rows x 6 columns]"
      ]
     },
     "execution_count": 227,
     "metadata": {},
     "output_type": "execute_result"
    }
   ],
   "source": [
    "# Creating a list of tickers\n",
    "df_prices = pd.DataFrame()\n",
    "\n",
    "# list of desired tickers, assume you want to invest into stocks from these regions (US, China, EU, UK, Latin America, Japan, Russia)\n",
    "# but you are not sure what weights to pick, so you decided to build an efficient frontier\n",
    "# yes we're looking into past returns to build a portfolio right now, this is not how you do it but it is an example\n",
    "# your actual task would be to work with forward looking returns\n",
    "stocks = ['VOO', 'AGG', 'IYR', 'DBC', 'PAVE', 'BITO']\n",
    "for i in stocks:\n",
    "    df_prices[i] = yf.download(i, start = '2010-01-01', end = '2022-01-01')['Adj Close']\n",
    "df_prices.columns = [\"Equity\", \"Fixed Income\", \"Commodities\", \"Real Estate\", \"Infrastructure\", \"Crypto\"]\n",
    "df_prices"
   ]
  },
  {
   "cell_type": "code",
   "execution_count": 228,
   "id": "e775dfd1",
   "metadata": {},
   "outputs": [],
   "source": [
    "#convert stock prices into returns\n",
    "df_rets = df_prices.pct_change().dropna()\n",
    "# write a bunch of functions we'll need \n",
    "def annualize_rets(r, periods_per_year):\n",
    "    \"\"\"\n",
    "    Annualizes a set of returns given the periods per year\n",
    "    \"\"\"\n",
    "    compounded_growth = (1+r).prod() \n",
    "    n_periods = r.shape[0] \n",
    "    return compounded_growth**(periods_per_year/n_periods)-1\n",
    "\n",
    "def annualize_vol(r, periods_per_year):\n",
    "    \"\"\"\n",
    "    Annualizes the vol of a set of returns given the periods per year\n",
    "    \"\"\"\n",
    "    return r.std()*(periods_per_year**0.5)\n",
    "#Get expected annualized returns and expected annualized volatilities\n",
    "exp_returns = annualize_rets(df_rets, 252)\n",
    "exp_vol = annualize_vol(df_rets, 252)"
   ]
  },
  {
   "cell_type": "code",
   "execution_count": 230,
   "id": "17f7959d",
   "metadata": {},
   "outputs": [
    {
     "data": {
      "text/plain": [
       "<Axes: >"
      ]
     },
     "execution_count": 230,
     "metadata": {},
     "output_type": "execute_result"
    },
    {
     "data": {
      "image/png": "[encoded data removed]",
      "text/plain": [
       "<Figure size 640x480 with 1 Axes>"
      ]
     },
     "metadata": {},
     "output_type": "display_data"
    }
   ],
   "source": [
    "exp_returns.sort_values().plot.bar()"
   ]
  },
  {
   "cell_type": "code",
   "execution_count": 229,
   "id": "ca15e9eb",
   "metadata": {},
   "outputs": [
    {
     "data": {
      "text/plain": [
       "<Axes: >"
      ]
     },
     "execution_count": 229,
     "metadata": {},
     "output_type": "execute_result"
    },
    {
     "data": {
      "image/png": "[encoded data removed]",
      "text/plain": [
       "<Figure size 640x480 with 1 Axes>"
      ]
     },
     "metadata": {},
     "output_type": "display_data"
    }
   ],
   "source": [
    "# Volatilities\n",
    "exp_vol.sort_values().plot.bar()"
   ]
  },
  {
   "cell_type": "code",
   "execution_count": 231,
   "id": "a6e97c14",
   "metadata": {},
   "outputs": [
    {
     "data": {
      "text/html": [
       "<div>\n",
       "<style scoped>\n",
       "    .dataframe tbody tr th:only-of-type {\n",
       "        vertical-align: middle;\n",
       "    }\n",
       "\n",
       "    .dataframe tbody tr th {\n",
       "        vertical-align: top;\n",
       "    }\n",
       "\n",
       "    .dataframe thead th {\n",
       "        text-align: right;\n",
       "    }\n",
       "</style>\n",
       "<table border=\"1\" class=\"dataframe\">\n",
       "  <thead>\n",
       "    <tr style=\"text-align: right;\">\n",
       "      <th></th>\n",
       "      <th>Equity</th>\n",
       "      <th>Fixed Income</th>\n",
       "      <th>Commodities</th>\n",
       "      <th>Real Estate</th>\n",
       "      <th>Infrastructure</th>\n",
       "      <th>Crypto</th>\n",
       "    </tr>\n",
       "  </thead>\n",
       "  <tbody>\n",
       "    <tr>\n",
       "      <th>Equity</th>\n",
       "      <td>0.019850</td>\n",
       "      <td>-0.001608</td>\n",
       "      <td>0.017359</td>\n",
       "      <td>0.020869</td>\n",
       "      <td>0.022849</td>\n",
       "      <td>0.034325</td>\n",
       "    </tr>\n",
       "    <tr>\n",
       "      <th>Fixed Income</th>\n",
       "      <td>-0.001608</td>\n",
       "      <td>0.001632</td>\n",
       "      <td>-0.001433</td>\n",
       "      <td>-0.003204</td>\n",
       "      <td>-0.002243</td>\n",
       "      <td>-0.003831</td>\n",
       "    </tr>\n",
       "    <tr>\n",
       "      <th>Commodities</th>\n",
       "      <td>0.017359</td>\n",
       "      <td>-0.001433</td>\n",
       "      <td>0.025789</td>\n",
       "      <td>0.024623</td>\n",
       "      <td>0.022683</td>\n",
       "      <td>0.027479</td>\n",
       "    </tr>\n",
       "    <tr>\n",
       "      <th>Real Estate</th>\n",
       "      <td>0.020869</td>\n",
       "      <td>-0.003204</td>\n",
       "      <td>0.024623</td>\n",
       "      <td>0.048155</td>\n",
       "      <td>0.031974</td>\n",
       "      <td>0.047005</td>\n",
       "    </tr>\n",
       "    <tr>\n",
       "      <th>Infrastructure</th>\n",
       "      <td>0.022849</td>\n",
       "      <td>-0.002243</td>\n",
       "      <td>0.022683</td>\n",
       "      <td>0.031974</td>\n",
       "      <td>0.036213</td>\n",
       "      <td>0.035491</td>\n",
       "    </tr>\n",
       "    <tr>\n",
       "      <th>Crypto</th>\n",
       "      <td>0.034325</td>\n",
       "      <td>-0.003831</td>\n",
       "      <td>0.027479</td>\n",
       "      <td>0.047005</td>\n",
       "      <td>0.035491</td>\n",
       "      <td>0.349324</td>\n",
       "    </tr>\n",
       "  </tbody>\n",
       "</table>\n",
       "</div>"
      ],
      "text/plain": [
       "                  Equity  Fixed Income  Commodities  Real Estate  \\\n",
       "Equity          0.019850     -0.001608     0.017359     0.020869   \n",
       "Fixed Income   -0.001608      0.001632    -0.001433    -0.003204   \n",
       "Commodities     0.017359     -0.001433     0.025789     0.024623   \n",
       "Real Estate     0.020869     -0.003204     0.024623     0.048155   \n",
       "Infrastructure  0.022849     -0.002243     0.022683     0.031974   \n",
       "Crypto          0.034325     -0.003831     0.027479     0.047005   \n",
       "\n",
       "                Infrastructure    Crypto  \n",
       "Equity                0.022849  0.034325  \n",
       "Fixed Income         -0.002243 -0.003831  \n",
       "Commodities           0.022683  0.027479  \n",
       "Real Estate           0.031974  0.047005  \n",
       "Infrastructure        0.036213  0.035491  \n",
       "Crypto                0.035491  0.349324  "
      ]
     },
     "execution_count": 231,
     "metadata": {},
     "output_type": "execute_result"
    }
   ],
   "source": [
    "# Now as we have our return matrix we need to create a variance covariance matrix, luckily it's very easy with the .cov() command\n",
    "covs = df_rets.cov() * 252\n",
    "covs\n",
    "# A reminder - top left to bottom right diagonal shows variances, all the other cells show covariances"
   ]
  },
  {
   "cell_type": "code",
   "execution_count": 235,
   "id": "46fb3664",
   "metadata": {},
   "outputs": [],
   "source": [
    "#Now lets build a function that can minimize volatility for a given level of return given expected return and covariance matrices\n",
    "#Remember that efficient frontier is simply a line that contains lowest possible volatilities for every return level\n",
    "#If we loop our minimize_vol function over a range of possible returns we'll get exactly what we are searching for - efficient frontier\n",
    "\n",
    "def minimize_vol(target_return, er, cov):\n",
    "    \"\"\"\n",
    "    Returns the optimal weights that achieve the target return\n",
    "    given a set of expected returns and a covariance matrix\n",
    "    \"\"\"\n",
    "    n = er.shape[0] #number of assets\n",
    "    init_guess = np.repeat(1/n, n) #equally weighted portfolio as an initial guess for the optimizer\n",
    "    bounds = ((0.0, 1.0),) * n #a set of 0% to 100% weight bounds for each asset\n",
    "\n",
    "    #constraint: difference between sum of weigths and 1 is equal to 0 i.e. sum of weights has to be 100%\n",
    "    #\"type\":\"eq\" means equality\n",
    "    #\"fun\" stands for a function defining a constraing\n",
    "    # lambda is a special type of nameless functions in python that can be contained in one line of code\n",
    "    weights_sum_to_1 = {'type': 'eq',\n",
    "                        'fun': lambda weights: np.sum(weights) - 1}\n",
    "    #constraint: return is equal to the target return\n",
    "    #\"args\" stands for extra arguments\n",
    "    return_is_target = {'type': 'eq',\n",
    "                        'args': (er,),\n",
    "                        'fun': lambda weights, er: target_return - portfolio_return(weights,er)}\n",
    "    #runs the optimizer to minimize the volatility for a given return\n",
    "    #opt.minimize(the thing to be minimized, initial guess, extra arguments, minimization method (slsqp stands for sequantial least squares), optimization details, ...)\n",
    "    # (..., constraints (weights add up to 100%, target return is target return), bounds (individual weights are between 0 and 100%))\n",
    "    weights = opt.minimize(portfolio_vol, init_guess,\n",
    "                       args=(cov,), method='SLSQP',\n",
    "                       options={'disp': False},\n",
    "                       constraints=(weights_sum_to_1,return_is_target),\n",
    "                       bounds=bounds)\n",
    "    return weights.x #get the argument x"
   ]
  },
  {
   "cell_type": "code",
   "execution_count": 236,
   "id": "54c29a69",
   "metadata": {},
   "outputs": [
    {
     "data": {
      "text/html": [
       "<div>\n",
       "<style scoped>\n",
       "    .dataframe tbody tr th:only-of-type {\n",
       "        vertical-align: middle;\n",
       "    }\n",
       "\n",
       "    .dataframe tbody tr th {\n",
       "        vertical-align: top;\n",
       "    }\n",
       "\n",
       "    .dataframe thead th {\n",
       "        text-align: right;\n",
       "    }\n",
       "</style>\n",
       "<table border=\"1\" class=\"dataframe\">\n",
       "  <thead>\n",
       "    <tr style=\"text-align: right;\">\n",
       "      <th></th>\n",
       "      <th>Weights</th>\n",
       "    </tr>\n",
       "  </thead>\n",
       "  <tbody>\n",
       "    <tr>\n",
       "      <th>Equity</th>\n",
       "      <td>0.10</td>\n",
       "    </tr>\n",
       "    <tr>\n",
       "      <th>Fixed Income</th>\n",
       "      <td>0.77</td>\n",
       "    </tr>\n",
       "    <tr>\n",
       "      <th>Commodities</th>\n",
       "      <td>0.13</td>\n",
       "    </tr>\n",
       "    <tr>\n",
       "      <th>Real Estate</th>\n",
       "      <td>0.00</td>\n",
       "    </tr>\n",
       "    <tr>\n",
       "      <th>Infrastructure</th>\n",
       "      <td>0.00</td>\n",
       "    </tr>\n",
       "    <tr>\n",
       "      <th>Crypto</th>\n",
       "      <td>0.00</td>\n",
       "    </tr>\n",
       "  </tbody>\n",
       "</table>\n",
       "</div>"
      ],
      "text/plain": [
       "                Weights\n",
       "Equity             0.10\n",
       "Fixed Income       0.77\n",
       "Commodities        0.13\n",
       "Real Estate        0.00\n",
       "Infrastructure     0.00\n",
       "Crypto             0.00"
      ]
     },
     "execution_count": 236,
     "metadata": {},
     "output_type": "execute_result"
    }
   ],
   "source": [
    "    pd.DataFrame(minimize_vol(0.1, exp_returns, covs), index = exp_returns.index, columns = [\"Weights\"]).round(2)\n",
    "# Everything seems to work, we got reasonable numbers"
   ]
  },
  {
   "cell_type": "code",
   "execution_count": 238,
   "id": "2a3622b5",
   "metadata": {},
   "outputs": [],
   "source": [
    "def optimal_weights(n_points, er, cov):\n",
    "    \"\"\"\n",
    "    Calculates optimal porfolio weights for n points between maximum and minimum possible return\n",
    "    \"\"\"\n",
    "    #Get a linear space from min and max return possible of length n_points\n",
    "    target_rs = np.linspace(er.min(), er.max(), n_points)\n",
    "    #Get optimal weights for each of n_points returns\n",
    "    weights = [minimize_vol(target_return, er, cov) for target_return in target_rs]\n",
    "    return weights\n",
    "\n",
    "def plot_ef(n_points, er, cov):\n",
    "    \"\"\"\n",
    "    Plots the multi-asset efficient frontier\n",
    "    \"\"\"\n",
    "    #get weights for each element of the interpolated lin space\n",
    "    weights = optimal_weights(n_points, er, cov)\n",
    "    #get return and volatility for each weights pair\n",
    "    rets = [portfolio_return(w, er) for w in weights]\n",
    "    vols = [portfolio_vol(w, cov) for w in weights]\n",
    "    ef = pd.DataFrame({\"Returns\": rets, \"Volatility\": vols})\n",
    "    return ef.plot.line(x=\"Volatility\", y=\"Returns\", style='.-')"
   ]
  },
  {
   "cell_type": "code",
   "execution_count": 239,
   "id": "1f9e0aac",
   "metadata": {},
   "outputs": [
    {
     "data": {
      "text/plain": [
       "<Axes: xlabel='Volatility'>"
      ]
     },
     "execution_count": 239,
     "metadata": {},
     "output_type": "execute_result"
    },
    {
     "data": {
      "image/png": "[encoded data removed]",
      "text/plain": [
       "<Figure size 640x480 with 1 Axes>"
      ]
     },
     "metadata": {},
     "output_type": "display_data"
    }
   ],
   "source": [
    "# plotting the efficient frontier (actually not the whole thing is efficient, only the portfolios above the point of lowest possible volatility, but more on it later)\n",
    "plot_ef(20, exp_returns, covs)"
   ]
  },
  {
   "cell_type": "code",
   "execution_count": 240,
   "id": "0afaf72b",
   "metadata": {},
   "outputs": [],
   "source": [
    "def msr(riskfree_rate, er, cov):\n",
    "    \"\"\"\n",
    "    Returns the weights of the portfolio that gives you the maximum sharpe ratio\n",
    "    given the riskfree rate and expected returns and a covariance matrix\n",
    "    \"\"\"\n",
    "    n = er.shape[0] \n",
    "    init_guess = np.repeat(1/n, n) \n",
    "    bounds = ((0.0, 1.0),) * n \n",
    "    weights_sum_to_1 = {'type': 'eq',\n",
    "                        'fun': lambda weights: np.sum(weights) - 1}\n",
    "    #maximize function does not exist, thus what we will be doing is minimizing the negative sharpe ratio\n",
    "    def neg_sharpe(weights, riskfree_rate, er, cov):\n",
    "        \"\"\"\n",
    "        Returns the negative of the sharpe ratio\n",
    "        of the given portfolio\n",
    "        \"\"\"\n",
    "        r = portfolio_return(weights, er)\n",
    "        vol = portfolio_vol(weights, cov)\n",
    "        return -(r - riskfree_rate)/vol\n",
    "\n",
    "    weights = opt.minimize(neg_sharpe, init_guess,\n",
    "                       args=(riskfree_rate, er, cov), method='SLSQP',\n",
    "                       options={'disp': False},\n",
    "                       constraints=(weights_sum_to_1,),\n",
    "                       bounds=bounds)\n",
    "    return weights.x"
   ]
  },
  {
   "cell_type": "code",
   "execution_count": 241,
   "id": "c7402150",
   "metadata": {},
   "outputs": [
    {
     "data": {
      "text/html": [
       "<div>\n",
       "<style scoped>\n",
       "    .dataframe tbody tr th:only-of-type {\n",
       "        vertical-align: middle;\n",
       "    }\n",
       "\n",
       "    .dataframe tbody tr th {\n",
       "        vertical-align: top;\n",
       "    }\n",
       "\n",
       "    .dataframe thead th {\n",
       "        text-align: right;\n",
       "    }\n",
       "</style>\n",
       "<table border=\"1\" class=\"dataframe\">\n",
       "  <thead>\n",
       "    <tr style=\"text-align: right;\">\n",
       "      <th></th>\n",
       "      <th>Weights</th>\n",
       "    </tr>\n",
       "  </thead>\n",
       "  <tbody>\n",
       "    <tr>\n",
       "      <th>Equity</th>\n",
       "      <td>0.06</td>\n",
       "    </tr>\n",
       "    <tr>\n",
       "      <th>Fixed Income</th>\n",
       "      <td>0.58</td>\n",
       "    </tr>\n",
       "    <tr>\n",
       "      <th>Commodities</th>\n",
       "      <td>0.36</td>\n",
       "    </tr>\n",
       "    <tr>\n",
       "      <th>Real Estate</th>\n",
       "      <td>0.00</td>\n",
       "    </tr>\n",
       "    <tr>\n",
       "      <th>Infrastructure</th>\n",
       "      <td>0.00</td>\n",
       "    </tr>\n",
       "    <tr>\n",
       "      <th>Crypto</th>\n",
       "      <td>0.00</td>\n",
       "    </tr>\n",
       "  </tbody>\n",
       "</table>\n",
       "</div>"
      ],
      "text/plain": [
       "                Weights\n",
       "Equity             0.06\n",
       "Fixed Income       0.58\n",
       "Commodities        0.36\n",
       "Real Estate        0.00\n",
       "Infrastructure     0.00\n",
       "Crypto             0.00"
      ]
     },
     "execution_count": 241,
     "metadata": {},
     "output_type": "execute_result"
    }
   ],
   "source": [
    "# let's assume the RF rate of 0.5%\n",
    "pd.DataFrame(msr(0.005, exp_returns, covs), index = exp_returns.index, columns = [\"Weights\"]).round(2)"
   ]
  },
  {
   "cell_type": "code",
   "execution_count": 242,
   "id": "40d77a14",
   "metadata": {},
   "outputs": [],
   "source": [
    "def gmv(cov):\n",
    "    \"\"\"\n",
    "    Returns the weights of the Global Minimum Volatility portfolio given a covariance matrix\n",
    "    \"\"\"\n",
    "    # I love this function, what we are doing here is we are feeding the MSR optimizer the idea that all the returns are the same and the way it reacts\n",
    "    # is it starts to increase the SR by lowering volatility and does so until it reaches the point of lowest possible volatility\n",
    "    n = cov.shape[0]\n",
    "    return msr(0.005, np.repeat(1, n), cov)"
   ]
  },
  {
   "cell_type": "code",
   "execution_count": 243,
   "id": "885ea01a",
   "metadata": {},
   "outputs": [
    {
     "data": {
      "text/html": [
       "<div>\n",
       "<style scoped>\n",
       "    .dataframe tbody tr th:only-of-type {\n",
       "        vertical-align: middle;\n",
       "    }\n",
       "\n",
       "    .dataframe tbody tr th {\n",
       "        vertical-align: top;\n",
       "    }\n",
       "\n",
       "    .dataframe thead th {\n",
       "        text-align: right;\n",
       "    }\n",
       "</style>\n",
       "<table border=\"1\" class=\"dataframe\">\n",
       "  <thead>\n",
       "    <tr style=\"text-align: right;\">\n",
       "      <th></th>\n",
       "      <th>Weights</th>\n",
       "    </tr>\n",
       "  </thead>\n",
       "  <tbody>\n",
       "    <tr>\n",
       "      <th>Equity</th>\n",
       "      <td>0.08</td>\n",
       "    </tr>\n",
       "    <tr>\n",
       "      <th>Fixed Income</th>\n",
       "      <td>0.87</td>\n",
       "    </tr>\n",
       "    <tr>\n",
       "      <th>Commodities</th>\n",
       "      <td>0.00</td>\n",
       "    </tr>\n",
       "    <tr>\n",
       "      <th>Real Estate</th>\n",
       "      <td>0.05</td>\n",
       "    </tr>\n",
       "    <tr>\n",
       "      <th>Infrastructure</th>\n",
       "      <td>0.00</td>\n",
       "    </tr>\n",
       "    <tr>\n",
       "      <th>Crypto</th>\n",
       "      <td>0.00</td>\n",
       "    </tr>\n",
       "  </tbody>\n",
       "</table>\n",
       "</div>"
      ],
      "text/plain": [
       "                Weights\n",
       "Equity             0.08\n",
       "Fixed Income       0.87\n",
       "Commodities        0.00\n",
       "Real Estate        0.05\n",
       "Infrastructure     0.00\n",
       "Crypto             0.00"
      ]
     },
     "execution_count": 243,
     "metadata": {},
     "output_type": "execute_result"
    }
   ],
   "source": [
    "pd.DataFrame(gmv(covs), index = exp_returns.index, columns = [\"Weights\"]).round(2)"
   ]
  },
  {
   "cell_type": "code",
   "execution_count": 244,
   "id": "7d665ed7",
   "metadata": {},
   "outputs": [
    {
     "data": {
      "text/plain": [
       "<matplotlib.legend.Legend at 0x20d88d1c910>"
      ]
     },
     "execution_count": 244,
     "metadata": {},
     "output_type": "execute_result"
    },
    {
     "data": {
      "image/png": "[encoded data removed]",
      "text/plain": [
       "<Figure size 640x480 with 1 Axes>"
      ]
     },
     "metadata": {},
     "output_type": "display_data"
    }
   ],
   "source": [
    "# plot Eficient Frontier\n",
    "ax = plot_ef(20, exp_returns, covs)\n",
    "ax.set_xlim(left = 0)\n",
    "# get MSR portfolio for risk free rate 0.02\n",
    "w_msr = msr(0.02, exp_returns, covs)\n",
    "r_msr = portfolio_return(w_msr, exp_returns)\n",
    "vol_msr = portfolio_vol(w_msr, covs)\n",
    "# get cooridnates for risk free and MSR portfolios\n",
    "cml_x = [0, vol_msr]\n",
    "cml_y = [0.005, r_msr]\n",
    "# get GMV portfolio\n",
    "w_gmv = gmv(covs)\n",
    "r_gmv = portfolio_return(w_gmv, exp_returns)\n",
    "vol_gmv = portfolio_vol(w_gmv, covs)\n",
    "# add CML and GMV points\n",
    "ax.plot(cml_x, cml_y, color='green', marker='o', linestyle='dashed', linewidth=2, \n",
    "        markersize=12, label= 'MSR')\n",
    "ax.plot([vol_gmv], [r_gmv], color='midnightblue', marker='o', markersize=12, \n",
    "        label= 'GMV')\n",
    "ax.legend()"
   ]
  },
  {
   "cell_type": "code",
   "execution_count": null,
   "id": "336ba655",
   "metadata": {},
   "outputs": [],
   "source": []
  }
 ],
 "metadata": {
  "kernelspec": {
   "display_name": "Python 3 (ipykernel)",
   "language": "python",
   "name": "python3"
  },
  "language_info": {
   "codemirror_mode": {
    "name": "ipython",
    "version": 3
   },
   "file_extension": ".py",
   "mimetype": "text/x-python",
   "name": "python",
   "nbconvert_exporter": "python",
   "pygments_lexer": "ipython3",
   "version": "3.10.9"
  }
 },
 "nbformat": 4,
 "nbformat_minor": 5
}
